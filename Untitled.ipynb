{
 "cells": [
  {
   "cell_type": "code",
   "execution_count": 6,
   "id": "1e59ac24",
   "metadata": {},
   "outputs": [
    {
     "data": {
      "text/plain": [
       "\"def final_score(data) : \\n        if data['sentiment_common'] == 'POSITIVE'  and data['score'] >= 0.9962 :  #0.9962\\n            return 'POS'\\n        elif data['sentiment_common'] == 'POSITIVE'  and data['score']< 0.9962 : \\n            return 'NEU'\\n        \\n        elif data['sentiment_common'] == 'NEGATIVE'  and data['score'] > 0.982:\\n            return 'NEG'\\n        elif data['sentiment_common'] == 'NEGATIVE'  and data['score'] <=0.982:\\n            return 'NEU'\\n\""
      ]
     },
     "execution_count": 6,
     "metadata": {},
     "output_type": "execute_result"
    }
   ],
   "source": [
    "from Pre_processing import prep_sentiment\n",
    "import inspect\n",
    "inspect.getsource(prep_sentiment.final_score)"
   ]
  }
 ],
 "metadata": {
  "kernelspec": {
   "display_name": "Python 3 (ipykernel)",
   "language": "python",
   "name": "python3"
  },
  "language_info": {
   "codemirror_mode": {
    "name": "ipython",
    "version": 3
   },
   "file_extension": ".py",
   "mimetype": "text/x-python",
   "name": "python",
   "nbconvert_exporter": "python",
   "pygments_lexer": "ipython3",
   "version": "3.8.10"
  }
 },
 "nbformat": 4,
 "nbformat_minor": 5
}
