{
 "cells": [
  {
   "cell_type": "code",
   "execution_count": 3,
   "id": "3e6774de-3034-40f4-8743-25fb61160410",
   "metadata": {},
   "outputs": [],
   "source": [
    "import numpy as np \n",
    "import pandas as pd \n",
    "import numpy as np \n",
    "import pandas as pd\n",
    "import string \n",
    "from selenium.webdriver.support.ui import WebDriverWait\n",
    "from selenium.webdriver.support import expected_conditions as EC\n",
    "from selenium.webdriver.common.by import By ## use By \n",
    "from selenium.common.exceptions import TimeoutException\n",
    "from selenium.common.exceptions import NoSuchElementException, TimeoutException, ElementClickInterceptedException\n",
    "from selenium import webdriver\n",
    "from selenium.webdriver.common.keys import Keys\n",
    "from bs4 import BeautifulSoup\n",
    "from lxml import html\n",
    "import time\n",
    "import requests\n",
    "import glob\n",
    "import os \n",
    "import re\n",
    "import requests\n",
    "import datetime\n",
    "from tqdm._tqdm_notebook import tqdm_notebook,tqdm\n",
    "tqdm_notebook.pandas()"
   ]
  },
  {
   "cell_type": "code",
   "execution_count": 53,
   "id": "a2cfa650-8bdd-43a4-a19c-ed48088ea784",
   "metadata": {},
   "outputs": [],
   "source": [
    "import string\n",
    "#for i in  string.ascii_lowercase :\n",
    "\n",
    "def get_web(site_web):  \n",
    "    #driver = webdriver.Chrome(executable_path='./web_driver/chromedriver') #webdriver.Chrome webdriver.Firefox\n",
    "    driver = webdriver.Firefox(executable_path='./web_driver/geckodriver.exe')\n",
    "    driver.get(site_web)\n",
    "    position_xpath =  \"//button[contains(@class , 'evidon-barrier-acceptbutto' )]\"\n",
    "    time.sleep(3)\n",
    "    driver.find_element(By.XPATH , position_xpath).click()\n",
    "    time.sleep(3)\n",
    " \n",
    "    return driver\n",
    "#get_web(site_web)    \n",
    "\n",
    "def get_content_word(driver) :\n",
    "    class_w = \"//div[contains(@class , 'ec-glossary-type node node-type-economics_term' )]\"\n",
    "    main_class = driver.find_elements(By.XPATH, class_w)\n",
    "    dd = dict()\n",
    "    for i in  main_class :\n",
    "        #print(i.find_element(By.TAG_NAME,'h2').text)\n",
    "        rr = [ t.text for t in i.find_elements(By.TAG_NAME, 'a')]\n",
    "        dd[i.find_element(By.TAG_NAME,'h2').text] = rr        \n",
    "    #print(dd)\n",
    "    return dd\n",
    "# driver =  get_web(site_web)\n",
    "# x= get_content_word(driver)\n",
    "# driver.close()\n"
   ]
  },
  {
   "cell_type": "code",
   "execution_count": 58,
   "id": "97eba96d-f9d4-4886-ab10-ae3f767bd1f2",
   "metadata": {},
   "outputs": [
    {
     "data": {
      "application/vnd.jupyter.widget-view+json": {
       "model_id": "6f405fd3aa654465972319baeadcc064",
       "version_major": 2,
       "version_minor": 0
      },
      "text/plain": [
       "  0%|          | 0/26 [00:00<?, ?it/s]"
      ]
     },
     "metadata": {},
     "output_type": "display_data"
    },
    {
     "name": "stderr",
     "output_type": "stream",
     "text": [
      "C:\\Users\\ThinkPad\\AppData\\Local\\Temp/ipykernel_8620/1728720345.py:6: DeprecationWarning: executable_path has been deprecated, please pass in a Service object\n",
      "  driver = webdriver.Firefox(executable_path='./web_driver/geckodriver.exe')\n"
     ]
    },
    {
     "name": "stdout",
     "output_type": "stream",
     "text": [
      "DONE SCRAPED\n"
     ]
    }
   ],
   "source": [
    "x = []\n",
    "for i in tqdm( string.ascii_lowercase) :\n",
    "    site_web = 'https://www.economist.com/economics-a-to-z/'+ str(i)\n",
    "    driver =  get_web(site_web)\n",
    "    x.append(get_content_word(driver))\n",
    "print('DONE SCRAPED')     \n",
    "rrr = []\n",
    "for dic in x :\n",
    "    for u,j in  dic.items() :\n",
    "        for jj in j :\n",
    "            rrr.append((u,jj))\n",
    "\n",
    "df = pd.DataFrame( rrr ,columns =  ['Key_word','Relate_word'])    \n",
    "df.to_csv('01022022_ECON_WORD.csv')"
   ]
  },
  {
   "cell_type": "code",
   "execution_count": 60,
   "id": "a1f81f6a-c82b-4ffa-b1c4-9c272436df05",
   "metadata": {},
   "outputs": [
    {
     "data": {
      "text/html": [
       "<div>\n",
       "<style scoped>\n",
       "    .dataframe tbody tr th:only-of-type {\n",
       "        vertical-align: middle;\n",
       "    }\n",
       "\n",
       "    .dataframe tbody tr th {\n",
       "        vertical-align: top;\n",
       "    }\n",
       "\n",
       "    .dataframe thead th {\n",
       "        text-align: right;\n",
       "    }\n",
       "</style>\n",
       "<table border=\"1\" class=\"dataframe\">\n",
       "  <thead>\n",
       "    <tr style=\"text-align: right;\">\n",
       "      <th></th>\n",
       "      <th>Key_word</th>\n",
       "      <th>Relate_word</th>\n",
       "    </tr>\n",
       "  </thead>\n",
       "  <tbody>\n",
       "    <tr>\n",
       "      <th>0</th>\n",
       "      <td>Absolute advantage</td>\n",
       "      <td>comparative advantage</td>\n",
       "    </tr>\n",
       "    <tr>\n",
       "      <th>1</th>\n",
       "      <td>Adaptive expectations</td>\n",
       "      <td>rational expectations</td>\n",
       "    </tr>\n",
       "    <tr>\n",
       "      <th>2</th>\n",
       "      <td>Adverse selection</td>\n",
       "      <td>market failure</td>\n",
       "    </tr>\n",
       "    <tr>\n",
       "      <th>3</th>\n",
       "      <td>Adverse selection</td>\n",
       "      <td>moral hazard</td>\n",
       "    </tr>\n",
       "    <tr>\n",
       "      <th>4</th>\n",
       "      <td>Adverse selection</td>\n",
       "      <td>asymmetric information</td>\n",
       "    </tr>\n",
       "    <tr>\n",
       "      <th>...</th>\n",
       "      <td>...</td>\n",
       "      <td>...</td>\n",
       "    </tr>\n",
       "    <tr>\n",
       "      <th>3142</th>\n",
       "      <td>Zero-sum game</td>\n",
       "      <td>GAME THEORY</td>\n",
       "    </tr>\n",
       "    <tr>\n",
       "      <th>3143</th>\n",
       "      <td>Zero-sum game</td>\n",
       "      <td>PROFIT</td>\n",
       "    </tr>\n",
       "    <tr>\n",
       "      <th>3144</th>\n",
       "      <td>Zero-sum game</td>\n",
       "      <td>WAGES</td>\n",
       "    </tr>\n",
       "    <tr>\n",
       "      <th>3145</th>\n",
       "      <td>Zero-sum game</td>\n",
       "      <td>PRODUCTIVITY</td>\n",
       "    </tr>\n",
       "    <tr>\n",
       "      <th>3146</th>\n",
       "      <td>Zero-sum game</td>\n",
       "      <td>IMPORTS</td>\n",
       "    </tr>\n",
       "  </tbody>\n",
       "</table>\n",
       "<p>3147 rows × 2 columns</p>\n",
       "</div>"
      ],
      "text/plain": [
       "                   Key_word             Relate_word\n",
       "0        Absolute advantage   comparative advantage\n",
       "1     Adaptive expectations   rational expectations\n",
       "2         Adverse selection          market failure\n",
       "3         Adverse selection            moral hazard\n",
       "4         Adverse selection  asymmetric information\n",
       "...                     ...                     ...\n",
       "3142          Zero-sum game             GAME THEORY\n",
       "3143          Zero-sum game                  PROFIT\n",
       "3144          Zero-sum game                   WAGES\n",
       "3145          Zero-sum game            PRODUCTIVITY\n",
       "3146          Zero-sum game                 IMPORTS\n",
       "\n",
       "[3147 rows x 2 columns]"
      ]
     },
     "execution_count": 60,
     "metadata": {},
     "output_type": "execute_result"
    }
   ],
   "source": [
    "df"
   ]
  }
 ],
 "metadata": {
  "kernelspec": {
   "display_name": "Python 3 (ipykernel)",
   "language": "python",
   "name": "python3"
  },
  "language_info": {
   "codemirror_mode": {
    "name": "ipython",
    "version": 3
   },
   "file_extension": ".py",
   "mimetype": "text/x-python",
   "name": "python",
   "nbconvert_exporter": "python",
   "pygments_lexer": "ipython3",
   "version": "3.8.10"
  }
 },
 "nbformat": 4,
 "nbformat_minor": 5
}
